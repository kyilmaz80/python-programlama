{
 "cells": [
  {
   "cell_type": "markdown",
   "metadata": {},
   "source": [
    "# Python 3 Çalışma Defteri"
   ]
  },
  {
   "cell_type": "markdown",
   "metadata": {},
   "source": [
    "## Temel İşlemler"
   ]
  },
  {
   "cell_type": "markdown",
   "metadata": {},
   "source": [
    "[1]:<https://youtu.be/NYBjfMwpvzs>\n",
    "Her programlama dili primitif işlemler sunar. Bu işlemler zamanla tanımlanmış ve bilgisayarın alt yapısına kadar inildiğinde, aritmek işlem birimine (ALU = \"arithmetic logical unit\") yaptırılır. Şimdi en alt seviyeden başlayarak bunları üst üste koymaya çalışacağız. Her programlama dili daha kompleks ama legal ifadeleri oluşturmada bu primitif işlemleri birleştirme yöntemleri sunar. Bu işlem sıralarını nasıl bir araya getiririz? İstediğimiz şeyleri nasıl tanımlayabiliriz? Son olarak,  her programlama dili, herbir hesaplamaya (computation) veya ifadeye (expression) bir değer veya anlam atamada bir yöntem sunar. Bu aslında bizim ne istediğimizle bilgisayarın aslında ne yaptğı arasında bağ kurmamızı sağlar. [[1]]\n",
    "\n",
    "En primitif yapılar nelerdir? Programlama dillerinde en temel elemanlar sayılar (numbers), harf dizgileri (strings) veya karakterlerden oluşan diziler ve basit operatörler olarak sayılabilir. Gerçek dilde, örneğin doğal dilimizde, bunlar kelimelerdir en basit anlamıyla. Peki bir programlama dilinin kelimeleri nelerdir? Bir araya getirdiğimiz temel birimler nelerdir? Bu temel birimleri bir araya getirdiğimizde dilin sentaksından/kurallarından bahsederiz.  Programlama dillerinde, biraz daha detaya inecek olursak, sayı ve sayıdan sonra bir operatör geçerli bir Python ifadesidir [[1]]:\n",
    "\n",
    "\n",
    "\n"
   ]
  },
  {
   "cell_type": "code",
   "execution_count": 1,
   "metadata": {},
   "outputs": [
    {
     "data": {
      "text/plain": [
       "6.4"
      ]
     },
     "execution_count": 1,
     "metadata": {},
     "output_type": "execute_result"
    }
   ],
   "source": [
    "3.2 + 3.2"
   ]
  },
  {
   "cell_type": "markdown",
   "metadata": {},
   "source": [
    "[1]:<https://youtu.be/NYBjfMwpvzs>\n",
    "Dilin kurallarından (sentaks) bahsederken örneğin aşağıdaki ifade dilimizde bir anlam ifade etmediğinden ve kabul edilebilen bir cümle olmadığından geçerli değildir:\n",
    "\n",
    "\"kedi köpek erkek\"\n",
    "\n",
    "Programlama dillerinde doğru senktaksı kurmada kaygı duyarız. Ayrıca dilin sentaksına ek olarak dilin semantiği/anlamı da bizim için önemlidir. Burada semantik dildeki ifadelere karşılı gelen anlamdır. İki farklı semantikden (anlamdan) bahsedilebilir. İlk olarak statik semantik. Burada dilin kuralına uygunluk varken, anlamda bozulma (anlaşılamama) vardır. Örneğin \"Biz kitap severim\" cümlesi <özne> <nesne> <yüklem> formunda standart cümle yapısına uyarken, yani sentatik olarak geçerliyken, biz yerine ben kullanılmaması Türkçe dili yapısına uymamaktadır. İşte programlama dillerinde de benzer durumlar görülebilir. Programlama dillerinde, <literal> <operatör> <literal> sentatik olarak geçerlidir. (Burada literal, bilgisayar bilimlerinde, kaynak kodda değişmeyen değeri temsil eden notasyondur. Bu notlarda daha önce bahsedilen numerik değer (integer), dizgi (string) vb. atomik değerler için kullanılan notasyondur.) Ancak 2.3/'abc' ifadesi statik semantik hata (TypeError) verir python'da; çünkü bir sayıyı bir dizgiye bölemeyiz. [[1]]"
   ]
  },
  {
   "cell_type": "code",
   "execution_count": 1,
   "metadata": {},
   "outputs": [
    {
     "ename": "TypeError",
     "evalue": "unsupported operand type(s) for /: 'float' and 'str'",
     "output_type": "error",
     "traceback": [
      "\u001b[0;31m---------------------------------------------------------------------------\u001b[0m",
      "\u001b[0;31mTypeError\u001b[0m                                 Traceback (most recent call last)",
      "\u001b[0;32m<ipython-input-1-200b9273cc6e>\u001b[0m in \u001b[0;36m<module>\u001b[0;34m()\u001b[0m\n\u001b[0;32m----> 1\u001b[0;31m \u001b[0;36m2.3\u001b[0m\u001b[0;34m/\u001b[0m\u001b[0;34m'abc'\u001b[0m\u001b[0;34m\u001b[0m\u001b[0m\n\u001b[0m",
      "\u001b[0;31mTypeError\u001b[0m: unsupported operand type(s) for /: 'float' and 'str'"
     ]
    }
   ],
   "source": [
    "2.3/'abc'"
   ]
  },
  {
   "cell_type": "markdown",
   "metadata": {},
   "source": [
    "[1]:<https://youtu.be/NYBjfMwpvzs>\n",
    "Bazen statik semantik olarak doğru ifadelerin birden fazla anlamı olabilir. Bunu doğal dillerde görebiliyoruz. Programlama dillerinde ise geçerli bir ifade için sadece bir anlam anlaşılmasını isteriz. Bu bazen programcının yapmak istediği; ancak beklenenin aksine bir işlem olmakla da sonuçlanabilir. Peki sistemde neler sorunlara yol açabilir? Bunlar sentatik hatalar, statik semantik hatalar, semantik hata olmadığı halde beklenmedik durumlar olabilir. Sentatik hatalar bilgisayar tarafından tepit edilir. Statik semantik hatalar diller tarafından, program çalışmadan önce ya da yorumlanmadan önce çoğunlukla tespit edilir. Bu tür hatalara bug (böcek) adı verilir. Hata yakalanmadığı takdirde, programda beklenmeyen davranışlar (program çalışmayı durdurabilir, sonsuza kadar devam edebilir, programcının beklemediği bir sonuç dönebilir,...) olabilir. Ayrıca modern sistemler sadece hataları bulmaz, hataların giderilmesi için gerekli yerlere yönlendirerek önerilerde de bulunur. Daha detaya inmek gerekirse derlenen (compiled) programlar bu hataları bulmak için çok uğraşır. Yorumlayıcı olarak çalışan Python dilinde ise, program statik semantik hatalar bakımından satır satır yorumlanır, hata oluştuğunda sistem uyarı verir. Bu tür programlarda genelde sorunu bulma (debug) biraz daha güç olabilir. Bu tür hatalara karşı nasıl önlem alabiliriz? Buna da programlama dillerinde defansik programlama diyoruz. O zaman amacımız nedir? Amacımız programlama dilinin sentaksını ve semantiğini öğrenmektir. Böylece enterasan şeyler yapabilen, geçerli/çalışan programlar yazabileceğiz. Ayrıca öğrenmemiz gereken bir başka önemli şey de, bir problemi çözmede kullanacağımız programlama elemanlarını içeren tarifi (algoritmayı) bilgisayarın anlayacağı forma nasıl dönüştüreceğimizdir. Problemi çözmede algoritmayı yani başında sonuna bütün adımların tariflendiği işleri ortaya koymaya çalışırız. Sonuç olarak bilgisayarlı düşünce modeli kapsamında problem tanımını adım adım işlere ayırıp bir tarife dönüştürebilme çok değerlidir. Bu tarifleri de dilin sentaksını ve semantiğini kullanarak   [[1]]"
   ]
  },
  {
   "cell_type": "markdown",
   "metadata": {},
   "source": [
    "## REFERANSLAR\n",
    "\n",
    "[1] Crimson, E. (n.d.). Programming Language Characteristics. Retrieved March 09, 2018, from https://youtu.be/NYBjfMwpvzs"
   ]
  },
  {
   "cell_type": "code",
   "execution_count": null,
   "metadata": {
    "collapsed": true
   },
   "outputs": [],
   "source": []
  }
 ],
 "metadata": {
  "kernelspec": {
   "display_name": "Python 3",
   "language": "python",
   "name": "python3"
  },
  "language_info": {
   "codemirror_mode": {
    "name": "ipython",
    "version": 3
   },
   "file_extension": ".py",
   "mimetype": "text/x-python",
   "name": "python",
   "nbconvert_exporter": "python",
   "pygments_lexer": "ipython3",
   "version": "3.6.3"
  }
 },
 "nbformat": 4,
 "nbformat_minor": 2
}
