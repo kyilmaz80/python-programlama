{
 "cells": [
  {
   "cell_type": "markdown",
   "metadata": {},
   "source": [
    "# Python 3 Çalışma Defteri"
   ]
  },
  {
   "cell_type": "markdown",
   "metadata": {},
   "source": [
    "## Temel İşlemler"
   ]
  },
  {
   "cell_type": "markdown",
   "metadata": {},
   "source": [
    "[1]:<https://youtu.be/NYBjfMwpvzs>\n",
    "Her programlama dili primitif işlemler sunar. Bu işlemler zamanla tanımlanmış ve bilgisayarın alt yapısına kadar inildiğinde aritmek işlem birimine (ALU = \"arithmetic logical unit\") yaptırılır. Şimdi en alt seviyeden başlayarak bunları üst üste koymaya çalışacağız.  [[1]]\n",
    "\n",
    "\n"
   ]
  },
  {
   "cell_type": "markdown",
   "metadata": {},
   "source": [
    "## REFERANSLAR\n",
    "\n",
    "[1] Crimson, E. (n.d.). Programming Language Characteristics. Retrieved March 09, 2018, from https://youtu.be/NYBjfMwpvzs"
   ]
  },
  {
   "cell_type": "code",
   "execution_count": null,
   "metadata": {},
   "outputs": [],
   "source": []
  }
 ],
 "metadata": {
  "kernelspec": {
   "display_name": "Python 3",
   "language": "python",
   "name": "python3"
  },
  "language_info": {
   "codemirror_mode": {
    "name": "ipython",
    "version": 3
   },
   "file_extension": ".py",
   "mimetype": "text/x-python",
   "name": "python",
   "nbconvert_exporter": "python",
   "pygments_lexer": "ipython3",
   "version": "3.6.4"
  }
 },
 "nbformat": 4,
 "nbformat_minor": 2
}
